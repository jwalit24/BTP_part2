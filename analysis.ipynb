{
 "cells": [
  {
   "cell_type": "code",
   "execution_count": 1,
   "metadata": {},
   "outputs": [],
   "source": [
    "import yfinance as yf\n",
    "\n",
    "import pandas as pd\n",
    "import numpy as np\n",
    "import matplotlib.pyplot as plt"
   ]
  },
  {
   "cell_type": "code",
   "execution_count": 2,
   "metadata": {},
   "outputs": [],
   "source": [
    "from stock_list import stocklist"
   ]
  },
  {
   "cell_type": "code",
   "execution_count": 3,
   "metadata": {},
   "outputs": [
    {
     "data": {
      "text/plain": [
       "dict_keys(['sharpe_stocks', 'drawdown_stocks', 'esg_stocks2', 'esg_stock_ndsv', 'pe_stocks', 'test'])"
      ]
     },
     "execution_count": 3,
     "metadata": {},
     "output_type": "execute_result"
    }
   ],
   "source": [
    "stocklist.keys()"
   ]
  },
  {
   "cell_type": "code",
   "execution_count": 4,
   "metadata": {},
   "outputs": [],
   "source": [
    "selected_stocks = stocklist['drawdown_stocks']\n",
    "start_date = '2020-01-01' #training start date\n",
    "end_date = '2021-01-01' #training end date"
   ]
  },
  {
   "cell_type": "markdown",
   "metadata": {},
   "source": [
    "# Data Preparation"
   ]
  },
  {
   "cell_type": "code",
   "execution_count": 5,
   "metadata": {},
   "outputs": [],
   "source": [
    "def get_data(stock, start_date, end_date):\n",
    "    data = yf.download(stock + '.NS', start=start_date, end=end_date)\n",
    "    return data"
   ]
  },
  {
   "cell_type": "code",
   "execution_count": 6,
   "metadata": {},
   "outputs": [
    {
     "name": "stderr",
     "output_type": "stream",
     "text": [
      "[*********************100%%**********************]  1 of 1 completed\n",
      "[*********************100%%**********************]  1 of 1 completed\n",
      "[*********************100%%**********************]  1 of 1 completed\n",
      "[*********************100%%**********************]  1 of 1 completed\n",
      "[*********************100%%**********************]  1 of 1 completed\n",
      "[*********************100%%**********************]  1 of 1 completed\n",
      "[*********************100%%**********************]  1 of 1 completed\n",
      "[*********************100%%**********************]  1 of 1 completed\n",
      "[*********************100%%**********************]  1 of 1 completed\n",
      "[*********************100%%**********************]  1 of 1 completed\n",
      "[*********************100%%**********************]  1 of 1 completed\n",
      "[*********************100%%**********************]  1 of 1 completed\n",
      "[*********************100%%**********************]  1 of 1 completed\n",
      "[*********************100%%**********************]  1 of 1 completed\n",
      "[*********************100%%**********************]  1 of 1 completed\n",
      "[*********************100%%**********************]  1 of 1 completed\n",
      "[*********************100%%**********************]  1 of 1 completed\n",
      "[*********************100%%**********************]  1 of 1 completed\n",
      "[*********************100%%**********************]  1 of 1 completed\n",
      "[*********************100%%**********************]  1 of 1 completed\n",
      "[*********************100%%**********************]  1 of 1 completed\n",
      "[*********************100%%**********************]  1 of 1 completed\n",
      "[*********************100%%**********************]  1 of 1 completed\n",
      "[*********************100%%**********************]  1 of 1 completed\n",
      "[*********************100%%**********************]  1 of 1 completed\n",
      "[*********************100%%**********************]  1 of 1 completed\n",
      "[*********************100%%**********************]  1 of 1 completed\n",
      "[*********************100%%**********************]  1 of 1 completed\n",
      "[*********************100%%**********************]  1 of 1 completed\n",
      "[*********************100%%**********************]  1 of 1 completed\n",
      "[*********************100%%**********************]  1 of 1 completed\n",
      "[*********************100%%**********************]  1 of 1 completed\n",
      "[*********************100%%**********************]  1 of 1 completed\n",
      "[*********************100%%**********************]  1 of 1 completed\n",
      "[*********************100%%**********************]  1 of 1 completed\n",
      "[*********************100%%**********************]  1 of 1 completed\n",
      "[*********************100%%**********************]  1 of 1 completed\n",
      "[*********************100%%**********************]  1 of 1 completed\n",
      "[*********************100%%**********************]  1 of 1 completed\n",
      "[*********************100%%**********************]  1 of 1 completed\n"
     ]
    },
    {
     "data": {
      "text/html": [
       "<div>\n",
       "<style scoped>\n",
       "    .dataframe tbody tr th:only-of-type {\n",
       "        vertical-align: middle;\n",
       "    }\n",
       "\n",
       "    .dataframe tbody tr th {\n",
       "        vertical-align: top;\n",
       "    }\n",
       "\n",
       "    .dataframe thead th {\n",
       "        text-align: right;\n",
       "    }\n",
       "</style>\n",
       "<table border=\"1\" class=\"dataframe\">\n",
       "  <thead>\n",
       "    <tr style=\"text-align: right;\">\n",
       "      <th></th>\n",
       "      <th>ALKYLAMINE</th>\n",
       "      <th>TATAINVEST</th>\n",
       "      <th>JSWHL</th>\n",
       "      <th>CONCOR</th>\n",
       "      <th>ICICIBANK</th>\n",
       "      <th>ASIANPAINT</th>\n",
       "      <th>ITC</th>\n",
       "      <th>INFY</th>\n",
       "      <th>TATACHEM</th>\n",
       "      <th>BAJAJFINSV</th>\n",
       "      <th>...</th>\n",
       "      <th>NAUKRI</th>\n",
       "      <th>AIAENG</th>\n",
       "      <th>POWERGRID</th>\n",
       "      <th>HCLTECH</th>\n",
       "      <th>SKFINDIA</th>\n",
       "      <th>PGHH</th>\n",
       "      <th>COLPAL</th>\n",
       "      <th>SANOFI</th>\n",
       "      <th>HINDUNILVR</th>\n",
       "      <th>HDFCBANK</th>\n",
       "    </tr>\n",
       "    <tr>\n",
       "      <th>Date</th>\n",
       "      <th></th>\n",
       "      <th></th>\n",
       "      <th></th>\n",
       "      <th></th>\n",
       "      <th></th>\n",
       "      <th></th>\n",
       "      <th></th>\n",
       "      <th></th>\n",
       "      <th></th>\n",
       "      <th></th>\n",
       "      <th></th>\n",
       "      <th></th>\n",
       "      <th></th>\n",
       "      <th></th>\n",
       "      <th></th>\n",
       "      <th></th>\n",
       "      <th></th>\n",
       "      <th></th>\n",
       "      <th></th>\n",
       "      <th></th>\n",
       "      <th></th>\n",
       "    </tr>\n",
       "  </thead>\n",
       "  <tbody>\n",
       "    <tr>\n",
       "      <th>2020-01-01</th>\n",
       "      <td>440.160004</td>\n",
       "      <td>805.150024</td>\n",
       "      <td>2179.850098</td>\n",
       "      <td>573.000000</td>\n",
       "      <td>536.750000</td>\n",
       "      <td>1793.199951</td>\n",
       "      <td>238.100006</td>\n",
       "      <td>736.849976</td>\n",
       "      <td>295.996399</td>\n",
       "      <td>937.844971</td>\n",
       "      <td>...</td>\n",
       "      <td>2565.600098</td>\n",
       "      <td>1622.599976</td>\n",
       "      <td>109.968781</td>\n",
       "      <td>571.950012</td>\n",
       "      <td>2195.850098</td>\n",
       "      <td>11408.599609</td>\n",
       "      <td>1461.099976</td>\n",
       "      <td>7014.399902</td>\n",
       "      <td>1936.550049</td>\n",
       "      <td>1278.599976</td>\n",
       "    </tr>\n",
       "    <tr>\n",
       "      <th>2020-01-02</th>\n",
       "      <td>465.679993</td>\n",
       "      <td>807.549988</td>\n",
       "      <td>2196.300049</td>\n",
       "      <td>572.000000</td>\n",
       "      <td>540.599976</td>\n",
       "      <td>1790.650024</td>\n",
       "      <td>239.850006</td>\n",
       "      <td>734.700012</td>\n",
       "      <td>296.635681</td>\n",
       "      <td>950.559998</td>\n",
       "      <td>...</td>\n",
       "      <td>2535.199951</td>\n",
       "      <td>1621.099976</td>\n",
       "      <td>109.743774</td>\n",
       "      <td>573.549988</td>\n",
       "      <td>2216.100098</td>\n",
       "      <td>11317.049805</td>\n",
       "      <td>1459.900024</td>\n",
       "      <td>6989.600098</td>\n",
       "      <td>1938.050049</td>\n",
       "      <td>1286.750000</td>\n",
       "    </tr>\n",
       "    <tr>\n",
       "      <th>2020-01-03</th>\n",
       "      <td>465.239990</td>\n",
       "      <td>810.299988</td>\n",
       "      <td>2202.550049</td>\n",
       "      <td>569.700012</td>\n",
       "      <td>538.849976</td>\n",
       "      <td>1751.400024</td>\n",
       "      <td>238.500000</td>\n",
       "      <td>746.000000</td>\n",
       "      <td>295.423218</td>\n",
       "      <td>934.585022</td>\n",
       "      <td>...</td>\n",
       "      <td>2567.449951</td>\n",
       "      <td>1648.599976</td>\n",
       "      <td>108.562531</td>\n",
       "      <td>585.049988</td>\n",
       "      <td>2196.149902</td>\n",
       "      <td>11322.799805</td>\n",
       "      <td>1460.000000</td>\n",
       "      <td>6899.549805</td>\n",
       "      <td>1927.449951</td>\n",
       "      <td>1268.400024</td>\n",
       "    </tr>\n",
       "    <tr>\n",
       "      <th>2020-01-06</th>\n",
       "      <td>456.899994</td>\n",
       "      <td>798.849976</td>\n",
       "      <td>2145.899902</td>\n",
       "      <td>562.200012</td>\n",
       "      <td>525.700012</td>\n",
       "      <td>1707.150024</td>\n",
       "      <td>235.100006</td>\n",
       "      <td>738.849976</td>\n",
       "      <td>290.881989</td>\n",
       "      <td>904.270020</td>\n",
       "      <td>...</td>\n",
       "      <td>2519.850098</td>\n",
       "      <td>1628.449951</td>\n",
       "      <td>108.618774</td>\n",
       "      <td>582.000000</td>\n",
       "      <td>2152.199951</td>\n",
       "      <td>11217.000000</td>\n",
       "      <td>1435.449951</td>\n",
       "      <td>6771.899902</td>\n",
       "      <td>1915.449951</td>\n",
       "      <td>1240.949951</td>\n",
       "    </tr>\n",
       "    <tr>\n",
       "      <th>2020-01-07</th>\n",
       "      <td>496.660004</td>\n",
       "      <td>800.549988</td>\n",
       "      <td>2150.000000</td>\n",
       "      <td>556.349976</td>\n",
       "      <td>522.900024</td>\n",
       "      <td>1724.400024</td>\n",
       "      <td>235.350006</td>\n",
       "      <td>727.900024</td>\n",
       "      <td>293.769867</td>\n",
       "      <td>909.565002</td>\n",
       "      <td>...</td>\n",
       "      <td>2539.600098</td>\n",
       "      <td>1649.300049</td>\n",
       "      <td>107.831276</td>\n",
       "      <td>584.250000</td>\n",
       "      <td>2130.649902</td>\n",
       "      <td>11099.299805</td>\n",
       "      <td>1450.349976</td>\n",
       "      <td>6807.799805</td>\n",
       "      <td>1920.699951</td>\n",
       "      <td>1260.599976</td>\n",
       "    </tr>\n",
       "  </tbody>\n",
       "</table>\n",
       "<p>5 rows × 40 columns</p>\n",
       "</div>"
      ],
      "text/plain": [
       "            ALKYLAMINE  TATAINVEST        JSWHL      CONCOR   ICICIBANK  \\\n",
       "Date                                                                      \n",
       "2020-01-01  440.160004  805.150024  2179.850098  573.000000  536.750000   \n",
       "2020-01-02  465.679993  807.549988  2196.300049  572.000000  540.599976   \n",
       "2020-01-03  465.239990  810.299988  2202.550049  569.700012  538.849976   \n",
       "2020-01-06  456.899994  798.849976  2145.899902  562.200012  525.700012   \n",
       "2020-01-07  496.660004  800.549988  2150.000000  556.349976  522.900024   \n",
       "\n",
       "             ASIANPAINT         ITC        INFY    TATACHEM  BAJAJFINSV  ...  \\\n",
       "Date                                                                     ...   \n",
       "2020-01-01  1793.199951  238.100006  736.849976  295.996399  937.844971  ...   \n",
       "2020-01-02  1790.650024  239.850006  734.700012  296.635681  950.559998  ...   \n",
       "2020-01-03  1751.400024  238.500000  746.000000  295.423218  934.585022  ...   \n",
       "2020-01-06  1707.150024  235.100006  738.849976  290.881989  904.270020  ...   \n",
       "2020-01-07  1724.400024  235.350006  727.900024  293.769867  909.565002  ...   \n",
       "\n",
       "                 NAUKRI       AIAENG   POWERGRID     HCLTECH     SKFINDIA  \\\n",
       "Date                                                                        \n",
       "2020-01-01  2565.600098  1622.599976  109.968781  571.950012  2195.850098   \n",
       "2020-01-02  2535.199951  1621.099976  109.743774  573.549988  2216.100098   \n",
       "2020-01-03  2567.449951  1648.599976  108.562531  585.049988  2196.149902   \n",
       "2020-01-06  2519.850098  1628.449951  108.618774  582.000000  2152.199951   \n",
       "2020-01-07  2539.600098  1649.300049  107.831276  584.250000  2130.649902   \n",
       "\n",
       "                    PGHH       COLPAL       SANOFI   HINDUNILVR     HDFCBANK  \n",
       "Date                                                                          \n",
       "2020-01-01  11408.599609  1461.099976  7014.399902  1936.550049  1278.599976  \n",
       "2020-01-02  11317.049805  1459.900024  6989.600098  1938.050049  1286.750000  \n",
       "2020-01-03  11322.799805  1460.000000  6899.549805  1927.449951  1268.400024  \n",
       "2020-01-06  11217.000000  1435.449951  6771.899902  1915.449951  1240.949951  \n",
       "2020-01-07  11099.299805  1450.349976  6807.799805  1920.699951  1260.599976  \n",
       "\n",
       "[5 rows x 40 columns]"
      ]
     },
     "execution_count": 6,
     "metadata": {},
     "output_type": "execute_result"
    }
   ],
   "source": [
    "df = pd.DataFrame()\n",
    "for stock in selected_stocks:\n",
    "    data = get_data(stock, start_date, end_date)\n",
    "    df[stock] = data['Close']\n"
   ]
  },
  {
   "cell_type": "code",
   "execution_count": 7,
   "metadata": {},
   "outputs": [],
   "source": [
    "esg_data = pd.read_json('esg_data.json')"
   ]
  },
  {
   "cell_type": "code",
   "execution_count": 8,
   "metadata": {},
   "outputs": [
    {
     "data": {
      "text/html": [
       "<div>\n",
       "<style scoped>\n",
       "    .dataframe tbody tr th:only-of-type {\n",
       "        vertical-align: middle;\n",
       "    }\n",
       "\n",
       "    .dataframe tbody tr th {\n",
       "        vertical-align: top;\n",
       "    }\n",
       "\n",
       "    .dataframe thead th {\n",
       "        text-align: right;\n",
       "    }\n",
       "</style>\n",
       "<table border=\"1\" class=\"dataframe\">\n",
       "  <thead>\n",
       "    <tr style=\"text-align: right;\">\n",
       "      <th></th>\n",
       "      <th>esg</th>\n",
       "      <th>esg_industry</th>\n",
       "      <th>industry</th>\n",
       "      <th>name</th>\n",
       "      <th>ticker</th>\n",
       "    </tr>\n",
       "  </thead>\n",
       "  <tbody>\n",
       "    <tr>\n",
       "      <th>0</th>\n",
       "      <td>[]</td>\n",
       "      <td>[]</td>\n",
       "      <td>Mining (except Oil &amp; Gas)</td>\n",
       "      <td>20-Microns-Ltd</td>\n",
       "      <td>20MICRONS</td>\n",
       "    </tr>\n",
       "    <tr>\n",
       "      <th>1</th>\n",
       "      <td>[[1622505600000, 14.44], [1625097600000, 14.46...</td>\n",
       "      <td>[[1622505600000, 13.83], [1625097600000, 12.9]...</td>\n",
       "      <td>Containers &amp; Packaging Manufacturing</td>\n",
       "      <td>3M-INDIA-LIMITED</td>\n",
       "      <td>3MINDIA</td>\n",
       "    </tr>\n",
       "    <tr>\n",
       "      <th>2</th>\n",
       "      <td>[[1633046400000, 36.21], [1635724800000, 35.68...</td>\n",
       "      <td>[[1633046400000, 19.94], [1635724800000, 20.25...</td>\n",
       "      <td>Brokerage &amp; Capital Markets</td>\n",
       "      <td>5paisa-Capital-Limited</td>\n",
       "      <td>5PAISA</td>\n",
       "    </tr>\n",
       "    <tr>\n",
       "      <th>3</th>\n",
       "      <td>[]</td>\n",
       "      <td>[]</td>\n",
       "      <td>Brokerage &amp; Capital Markets</td>\n",
       "      <td>A-K-CAPITAL-SERVICES-LIMITED</td>\n",
       "      <td>530499</td>\n",
       "    </tr>\n",
       "    <tr>\n",
       "      <th>4</th>\n",
       "      <td>[]</td>\n",
       "      <td>[]</td>\n",
       "      <td>Architectural, Engineering, &amp; Related Services</td>\n",
       "      <td>A2Z-MAINTENANCE-and-ENGINEERING-SERVICES-LIMITED</td>\n",
       "      <td>A2ZINFRA</td>\n",
       "    </tr>\n",
       "  </tbody>\n",
       "</table>\n",
       "</div>"
      ],
      "text/plain": [
       "                                                 esg  \\\n",
       "0                                                 []   \n",
       "1  [[1622505600000, 14.44], [1625097600000, 14.46...   \n",
       "2  [[1633046400000, 36.21], [1635724800000, 35.68...   \n",
       "3                                                 []   \n",
       "4                                                 []   \n",
       "\n",
       "                                        esg_industry  \\\n",
       "0                                                 []   \n",
       "1  [[1622505600000, 13.83], [1625097600000, 12.9]...   \n",
       "2  [[1633046400000, 19.94], [1635724800000, 20.25...   \n",
       "3                                                 []   \n",
       "4                                                 []   \n",
       "\n",
       "                                         industry  \\\n",
       "0                       Mining (except Oil & Gas)   \n",
       "1            Containers & Packaging Manufacturing   \n",
       "2                     Brokerage & Capital Markets   \n",
       "3                     Brokerage & Capital Markets   \n",
       "4  Architectural, Engineering, & Related Services   \n",
       "\n",
       "                                               name     ticker  \n",
       "0                                    20-Microns-Ltd  20MICRONS  \n",
       "1                                  3M-INDIA-LIMITED    3MINDIA  \n",
       "2                            5paisa-Capital-Limited     5PAISA  \n",
       "3                      A-K-CAPITAL-SERVICES-LIMITED     530499  \n",
       "4  A2Z-MAINTENANCE-and-ENGINEERING-SERVICES-LIMITED   A2ZINFRA  "
      ]
     },
     "execution_count": 8,
     "metadata": {},
     "output_type": "execute_result"
    }
   ],
   "source": [
    "esg_data.head()\n"
   ]
  },
  {
   "cell_type": "code",
   "execution_count": 9,
   "metadata": {},
   "outputs": [],
   "source": [
    "esg_data = esg_data[esg_data['ticker'].isin(selected_stocks)]\n",
    "esg_data = esg_data.set_index('ticker')\n",
    "esg_data.head()\n",
    "# drop the row with name Nabha-Power-Limited\n",
    "esg_data = esg_data[esg_data['name'] != 'Nabha-Power-Limited']"
   ]
  },
  {
   "cell_type": "code",
   "execution_count": 10,
   "metadata": {},
   "outputs": [
    {
     "name": "stdout",
     "output_type": "stream",
     "text": [
      "ALKYLAMINE\n",
      "TATAINVEST\n",
      "JSWHL\n",
      "CONCOR\n",
      "ICICIBANK\n",
      "ASIANPAINT\n",
      "ITC\n",
      "INFY\n",
      "TATACHEM\n",
      "BAJAJFINSV\n",
      "RATNAMANI\n",
      "SOLARINDS\n",
      "PGHL\n",
      "BAJAJ-AUTO\n",
      "NTPC\n",
      "HONAUT\n",
      "PETRONET\n",
      "DABUR\n",
      "KOTAKBANK\n",
      "AKZOINDIA\n",
      "AARTIIND\n",
      "PIDILITIND\n",
      "TCS\n",
      "MARICO\n",
      "ATUL\n",
      "RELIANCE\n",
      "BAJAJHLDNG\n",
      "CUB\n",
      "GRINDWELL\n",
      "LT\n",
      "NAUKRI\n",
      "AIAENG\n",
      "POWERGRID\n",
      "HCLTECH\n",
      "SKFINDIA\n",
      "PGHH\n",
      "COLPAL\n",
      "SANOFI\n",
      "HINDUNILVR\n",
      "HDFCBANK\n"
     ]
    },
    {
     "data": {
      "text/html": [
       "<div>\n",
       "<style scoped>\n",
       "    .dataframe tbody tr th:only-of-type {\n",
       "        vertical-align: middle;\n",
       "    }\n",
       "\n",
       "    .dataframe tbody tr th {\n",
       "        vertical-align: top;\n",
       "    }\n",
       "\n",
       "    .dataframe thead th {\n",
       "        text-align: right;\n",
       "    }\n",
       "</style>\n",
       "<table border=\"1\" class=\"dataframe\">\n",
       "  <thead>\n",
       "    <tr style=\"text-align: right;\">\n",
       "      <th></th>\n",
       "      <th>ESG_score</th>\n",
       "    </tr>\n",
       "  </thead>\n",
       "  <tbody>\n",
       "    <tr>\n",
       "      <th>ALKYLAMINE</th>\n",
       "      <td>26.132917</td>\n",
       "    </tr>\n",
       "    <tr>\n",
       "      <th>TATAINVEST</th>\n",
       "      <td>55.452941</td>\n",
       "    </tr>\n",
       "    <tr>\n",
       "      <th>JSWHL</th>\n",
       "      <td>46.280000</td>\n",
       "    </tr>\n",
       "    <tr>\n",
       "      <th>CONCOR</th>\n",
       "      <td>38.377600</td>\n",
       "    </tr>\n",
       "    <tr>\n",
       "      <th>ICICIBANK</th>\n",
       "      <td>59.359200</td>\n",
       "    </tr>\n",
       "  </tbody>\n",
       "</table>\n",
       "</div>"
      ],
      "text/plain": [
       "            ESG_score\n",
       "ALKYLAMINE  26.132917\n",
       "TATAINVEST  55.452941\n",
       "JSWHL       46.280000\n",
       "CONCOR      38.377600\n",
       "ICICIBANK   59.359200"
      ]
     },
     "execution_count": 10,
     "metadata": {},
     "output_type": "execute_result"
    }
   ],
   "source": [
    "ESG_score_df = pd.DataFrame()\n",
    "for ticker in selected_stocks:\n",
    "    sum = 0\n",
    "    n = 0\n",
    "    for el in esg_data.loc[ticker]['esg']:\n",
    "      n = n + 1\n",
    "      sum = sum + el[1]\n",
    "\n",
    "    ESG_score_df[ticker] = [sum/n]\n",
    "\n",
    "ESG_score_df = ESG_score_df.Esg_score\n",
    "ESG_score_df.columns = ['ESG_score']"
   ]
  },
  {
   "cell_type": "code",
   "execution_count": 11,
   "metadata": {},
   "outputs": [
    {
     "data": {
      "text/html": [
       "<div>\n",
       "<style scoped>\n",
       "    .dataframe tbody tr th:only-of-type {\n",
       "        vertical-align: middle;\n",
       "    }\n",
       "\n",
       "    .dataframe tbody tr th {\n",
       "        vertical-align: top;\n",
       "    }\n",
       "\n",
       "    .dataframe thead th {\n",
       "        text-align: right;\n",
       "    }\n",
       "</style>\n",
       "<table border=\"1\" class=\"dataframe\">\n",
       "  <thead>\n",
       "    <tr style=\"text-align: right;\">\n",
       "      <th></th>\n",
       "      <th>esg</th>\n",
       "      <th>esg_industry</th>\n",
       "      <th>industry</th>\n",
       "      <th>name</th>\n",
       "    </tr>\n",
       "    <tr>\n",
       "      <th>ticker</th>\n",
       "      <th></th>\n",
       "      <th></th>\n",
       "      <th></th>\n",
       "      <th></th>\n",
       "    </tr>\n",
       "  </thead>\n",
       "  <tbody>\n",
       "    <tr>\n",
       "      <th>LT</th>\n",
       "      <td>[[1619827200000, 89.93], [1622505600000, 93.2]...</td>\n",
       "      <td>[[1619827200000, 81.17], [1622505600000, 82.59...</td>\n",
       "      <td>Heavy &amp; Civil Engineering Construction, Electr...</td>\n",
       "      <td>Larsen-and-Toubro</td>\n",
       "    </tr>\n",
       "  </tbody>\n",
       "</table>\n",
       "</div>"
      ],
      "text/plain": [
       "                                                      esg  \\\n",
       "ticker                                                      \n",
       "LT      [[1619827200000, 89.93], [1622505600000, 93.2]...   \n",
       "\n",
       "                                             esg_industry  \\\n",
       "ticker                                                      \n",
       "LT      [[1619827200000, 81.17], [1622505600000, 82.59...   \n",
       "\n",
       "                                                 industry               name  \n",
       "ticker                                                                        \n",
       "LT      Heavy & Civil Engineering Construction, Electr...  Larsen-and-Toubro  "
      ]
     },
     "execution_count": 11,
     "metadata": {},
     "output_type": "execute_result"
    }
   ],
   "source": [
    "esg_data[esg_data.index == 'LT']"
   ]
  },
  {
   "cell_type": "markdown",
   "metadata": {},
   "source": [
    "# Helper Functions"
   ]
  },
  {
   "cell_type": "code",
   "execution_count": 20,
   "metadata": {},
   "outputs": [],
   "source": [
    "import numpy as np\n",
    "import matplotlib.pyplot as plt\n",
    "from mpl_toolkits.mplot3d import Axes3D\n",
    "\n",
    "def is_positive_definite(Sigma):\n",
    "    return np.all(np.linalg.eigvals(Sigma) > 0)\n",
    "\n",
    "def calculate_portfolio_weights(Sigma, mu, Esg_score, u, l):\n",
    "    one=np.ones(len(mu))\n",
    "    # check if mu, Esg_score, one are linearly independent\n",
    "    if np.linalg.matrix_rank(np.array([mu, Esg_score, one])) < 3:\n",
    "        print(\"mu, Esg_score, one are not linearly independent\")\n",
    "        return\n",
    "    if is_positive_definite(Sigma):\n",
    "        Sigma_inv = np.linalg.inv(Sigma)\n",
    "        a = np.transpose(mu) @ Sigma_inv @ mu\n",
    "        b =  np.transpose(mu)@ Sigma_inv @ Esg_score\n",
    "        c = np.transpose(mu) @ Sigma_inv @ one\n",
    "        d = np.transpose(Esg_score) @ Sigma_inv @ Esg_score\n",
    "        e = np.transpose(Esg_score) @ Sigma_inv @ one\n",
    "        f = np.transpose(one) @ Sigma_inv @ one\n",
    "        C = np.array([[a, b, c], [b, d, e], [c, e, f]])\n",
    "\n",
    "        detC=np.linalg.det(C)\n",
    "\n",
    "        C_inv = np.linalg.inv(C)\n",
    "\n",
    "        aa=Sigma_inv @ mu\n",
    "        bb=Sigma_inv @ Esg_score\n",
    "        cc=Sigma_inv @ one \n",
    "\n",
    "        x0 = (1/detC)*((b*e-c*d)*aa+(b*c-a*e)*bb+(a*d-b*b)*cc)\n",
    "        d2 = (1/detC)*((d*f-e*e)*aa+(c*e-b*f)*bb+(b*e-c*d)*cc)\n",
    "        d3=(1/detC)*((c*e-b*f)*aa+(a*f-c*c)*bb+(b*c-a*e)*cc)\n",
    "\n",
    "\n",
    "        # print(x0)\n",
    "        # print(d2)\n",
    "        # print(d3)\n",
    "\n",
    "        x = x0 + u * d2 + l * d3\n",
    "\n",
    "        # Output x\n",
    "        # print(x)\n",
    "        print(\"Sum of weights: \", np.sum(x))\n",
    "        return x\n",
    "    else:\n",
    "        print(\"Matrix is not positive definite:\\n\")\n",
    "\n",
    "\n",
    "\n",
    "def plot_3d_returns_variance_esg(portfolio_returns, portfolio_variances, portfolio_esgs):\n",
    "    fig = plt.figure()\n",
    "    ax = fig.add_subplot(111, projection='3d')\n",
    "    ax.scatter(portfolio_returns, portfolio_esgs, portfolio_variances, c='r', marker='o')\n",
    "    ax.set_xlabel('Returns (in %)')\n",
    "    ax.set_ylabel('Esg Score')\n",
    "    ax.set_zlabel('Variance (in %)')\n",
    "    fig.savefig('3d_plot.png')\n",
    "    plt.show()\n",
    "\n",
    "\n",
    "def generate_plot(Sigma, mu, ESG_scores, u_values, l_values):\n",
    "    portfolio_returns = []\n",
    "    portfolio_variances = []\n",
    "    portfolio_esgs = []\n",
    "    for u in u_values:\n",
    "        for l in l_values:\n",
    "            weights = calculate_portfolio_weights(Sigma, mu, ESG_scores, u, l)\n",
    "            portfolio_return = np.dot(weights.T, mu)\n",
    "            portfolio_variance = np.dot(weights.T, np.dot(Sigma, weights))\n",
    "            portfolio_esg = np.dot(weights.T, ESG_scores)\n",
    "            portfolio_returns.append(portfolio_return*100)\n",
    "            portfolio_variances.append(portfolio_variance)\n",
    "            portfolio_esgs.append(portfolio_esg)\n",
    "    \n",
    "    plot_3d_returns_variance_esg(portfolio_returns, portfolio_variances, portfolio_esgs)\n"
   ]
  },
  {
   "cell_type": "code",
   "execution_count": 50,
   "metadata": {},
   "outputs": [],
   "source": [
    "# def get_returns_given_w(weights, returns_df):\n",
    "#     aligned_weights = [weights[stock] for stock in returns_df.columns]\n",
    "#     mu = returns_df.pct_change().apply(lambda x: np.log(1+x)).mean()\n",
    "#     cov_matrix = returns_df.pct_change().apply(lambda x: np.log(1+x)).cov()\n",
    "#     portfolio_return = 252*(mu @ aligned_weights)\n",
    "#     portfolio_stddev = np.sqrt(np.array(aligned_weights).T @ cov_matrix @ np.array(aligned_weights)*252)\n",
    "#     return portfolio_return, portfolio_stddev"
   ]
  },
  {
   "cell_type": "code",
   "execution_count": 15,
   "metadata": {},
   "outputs": [
    {
     "data": {
      "text/plain": [
       "DatetimeIndex(['2020-01-01', '2020-01-02', '2020-01-03', '2020-01-06',\n",
       "               '2020-01-07', '2020-01-08', '2020-01-09', '2020-01-10',\n",
       "               '2020-01-13', '2020-01-14',\n",
       "               ...\n",
       "               '2020-12-17', '2020-12-18', '2020-12-21', '2020-12-22',\n",
       "               '2020-12-23', '2020-12-24', '2020-12-28', '2020-12-29',\n",
       "               '2020-12-30', '2020-12-31'],\n",
       "              dtype='datetime64[ns]', name='Date', length=251, freq=None)"
      ]
     },
     "execution_count": 15,
     "metadata": {},
     "output_type": "execute_result"
    }
   ],
   "source": [
    "df.index"
   ]
  },
  {
   "cell_type": "markdown",
   "metadata": {},
   "source": [
    "# Analysis"
   ]
  },
  {
   "cell_type": "code",
   "execution_count": 17,
   "metadata": {},
   "outputs": [
    {
     "name": "stdout",
     "output_type": "stream",
     "text": [
      "2020-01-01 00:00:00 2020-07-02 00:00:00 2020-07-02 00:00:00 2021-01-01 00:00:00\n"
     ]
    }
   ],
   "source": [
    "from datetime import datetime\n",
    "starting_train = datetime.strptime(start_date, '%Y-%m-%d')\n",
    "ending_test = datetime.strptime(end_date, '%Y-%m-%d')\n",
    "ending_train = starting_train + (ending_test - starting_train) / 2\n",
    "starting_test = ending_train\n",
    "print(starting_train, ending_train, starting_test, ending_test)"
   ]
  },
  {
   "cell_type": "code",
   "execution_count": 18,
   "metadata": {},
   "outputs": [],
   "source": [
    "train_df = df.loc[starting_train:ending_train]\n",
    "test_df = df.loc[starting_test:ending_test]"
   ]
  },
  {
   "cell_type": "code",
   "execution_count": 65,
   "metadata": {},
   "outputs": [
    {
     "name": "stdout",
     "output_type": "stream",
     "text": [
      "Sum of weights:  0.9999999999999716\n"
     ]
    }
   ],
   "source": [
    "mu = train_df.pct_change().apply(lambda x: np.log(1+x)).mean()\n",
    "Sigma = train_df.pct_change().apply(lambda x: np.log(1+x)).cov()\n",
    "Esg_score = ESG_score_df['ESG_score']\n",
    "weights = calculate_portfolio_weights(Sigma, mu, Esg_score, 0.4, 60)\n",
    "# make weights into a array with index\n",
    "weights = pd.Series(weights, index=train_df.columns)"
   ]
  },
  {
   "cell_type": "code",
   "execution_count": 66,
   "metadata": {},
   "outputs": [
    {
     "name": "stdout",
     "output_type": "stream",
     "text": [
      "Sum of absolute weights:  342.01367223471476\n"
     ]
    }
   ],
   "source": [
    "print(\"Sum of absolute weights: \", np.sum(np.abs(weights)))"
   ]
  },
  {
   "cell_type": "code",
   "execution_count": 67,
   "metadata": {},
   "outputs": [],
   "source": [
    "def get_returns_given_w(weights, returns_df):\n",
    "    aligned_weights = [weights[stock] for stock in returns_df.columns]\n",
    "    mu = returns_df.pct_change().apply(lambda x: np.log(1+x)).mean()\n",
    "    cov_matrix = returns_df.pct_change().apply(lambda x: np.log(1+x)).cov()\n",
    "    portfolio_return = 252*(mu @ aligned_weights)\n",
    "    portfolio_stddev = np.sqrt(np.array(aligned_weights).T @ cov_matrix @ np.array(aligned_weights)*252)\n",
    "    return portfolio_return, portfolio_stddev"
   ]
  },
  {
   "cell_type": "code",
   "execution_count": 68,
   "metadata": {},
   "outputs": [
    {
     "data": {
      "text/plain": [
       "(-15.574974578508165, 19.862914478896236)"
      ]
     },
     "execution_count": 68,
     "metadata": {},
     "output_type": "execute_result"
    }
   ],
   "source": [
    "get_returns_given_w(weights, test_df)"
   ]
  },
  {
   "cell_type": "code",
   "execution_count": 71,
   "metadata": {},
   "outputs": [],
   "source": [
    "dummy_weights = [1/len(test_df.columns)]*len(test_df.columns)\n",
    "dummy_weights = pd.Series(dummy_weights, index = test_df.columns)"
   ]
  },
  {
   "cell_type": "code",
   "execution_count": 73,
   "metadata": {},
   "outputs": [
    {
     "data": {
      "text/plain": [
       "(0.5218136173916709, 0.1318485180829717)"
      ]
     },
     "execution_count": 73,
     "metadata": {},
     "output_type": "execute_result"
    }
   ],
   "source": [
    "get_returns_given_w(dummy_weights, test_df)"
   ]
  }
 ],
 "metadata": {
  "kernelspec": {
   "display_name": "env",
   "language": "python",
   "name": "python3"
  },
  "language_info": {
   "codemirror_mode": {
    "name": "ipython",
    "version": 3
   },
   "file_extension": ".py",
   "mimetype": "text/x-python",
   "name": "python",
   "nbconvert_exporter": "python",
   "pygments_lexer": "ipython3",
   "version": "3.11.5"
  }
 },
 "nbformat": 4,
 "nbformat_minor": 2
}

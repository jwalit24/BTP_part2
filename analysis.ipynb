{
 "cells": [
  {
   "cell_type": "code",
   "execution_count": 94,
   "metadata": {},
   "outputs": [],
   "source": [
    "import yfinance as yf\n",
    "\n",
    "import pandas as pd\n",
    "import numpy as np\n",
    "import matplotlib.pyplot as plt"
   ]
  },
  {
   "cell_type": "code",
   "execution_count": 95,
   "metadata": {},
   "outputs": [],
   "source": [
    "from stock_list import stocklist"
   ]
  },
  {
   "cell_type": "code",
   "execution_count": 96,
   "metadata": {},
   "outputs": [
    {
     "data": {
      "text/plain": [
       "dict_keys(['sharpe_stocks', 'drawdown_stocks', 'esg_stocks2', 'esg_stock_ndsv', 'pe_stocks', 'test'])"
      ]
     },
     "execution_count": 96,
     "metadata": {},
     "output_type": "execute_result"
    }
   ],
   "source": [
    "stocklist.keys()"
   ]
  },
  {
   "cell_type": "markdown",
   "metadata": {},
   "source": [
    "# Variaables:"
   ]
  },
  {
   "cell_type": "code",
   "execution_count": 97,
   "metadata": {},
   "outputs": [
    {
     "name": "stdout",
     "output_type": "stream",
     "text": [
      "2020-01-01 00:00:00 2020-07-02 00:00:00 2020-07-02 00:00:00 2021-01-01 00:00:00\n"
     ]
    }
   ],
   "source": [
    "from datetime import datetime\n",
    "selected_stocks = stocklist['drawdown_stocks']\n",
    "start_date = '2020-01-01' #training start date\n",
    "end_date = '2021-01-01' #training end date\n",
    "starting_train = datetime.strptime(start_date, '%Y-%m-%d')\n",
    "ending_test = datetime.strptime(end_date, '%Y-%m-%d')\n",
    "ending_train = starting_train + (ending_test - starting_train) / 2\n",
    "starting_test = ending_train\n",
    "print(starting_train, ending_train, starting_test, ending_test)"
   ]
  },
  {
   "cell_type": "markdown",
   "metadata": {},
   "source": [
    "# Data Preparation"
   ]
  },
  {
   "cell_type": "code",
   "execution_count": 98,
   "metadata": {},
   "outputs": [],
   "source": [
    "def get_data(stock, start_date, end_date):\n",
    "    data = yf.download(stock + '.NS', start=start_date, end=end_date)\n",
    "    return data"
   ]
  },
  {
   "cell_type": "code",
   "execution_count": 99,
   "metadata": {},
   "outputs": [
    {
     "name": "stderr",
     "output_type": "stream",
     "text": [
      "[*********************100%%**********************]  1 of 1 completed\n",
      "[*********************100%%**********************]  1 of 1 completed\n",
      "[*********************100%%**********************]  1 of 1 completed\n",
      "[*********************100%%**********************]  1 of 1 completed\n",
      "[*********************100%%**********************]  1 of 1 completed\n",
      "[*********************100%%**********************]  1 of 1 completed\n",
      "[*********************100%%**********************]  1 of 1 completed\n",
      "[*********************100%%**********************]  1 of 1 completed\n",
      "[*********************100%%**********************]  1 of 1 completed\n",
      "[*********************100%%**********************]  1 of 1 completed\n",
      "[*********************100%%**********************]  1 of 1 completed\n",
      "[*********************100%%**********************]  1 of 1 completed\n",
      "[*********************100%%**********************]  1 of 1 completed\n",
      "[*********************100%%**********************]  1 of 1 completed\n",
      "[*********************100%%**********************]  1 of 1 completed"
     ]
    },
    {
     "name": "stderr",
     "output_type": "stream",
     "text": [
      "\n",
      "[*********************100%%**********************]  1 of 1 completed\n",
      "[*********************100%%**********************]  1 of 1 completed\n",
      "[*********************100%%**********************]  1 of 1 completed\n",
      "[*********************100%%**********************]  1 of 1 completed\n",
      "[*********************100%%**********************]  1 of 1 completed\n",
      "[*********************100%%**********************]  1 of 1 completed\n",
      "[*********************100%%**********************]  1 of 1 completed\n",
      "[*********************100%%**********************]  1 of 1 completed\n",
      "[*********************100%%**********************]  1 of 1 completed\n",
      "[*********************100%%**********************]  1 of 1 completed\n",
      "[*********************100%%**********************]  1 of 1 completed\n",
      "[*********************100%%**********************]  1 of 1 completed\n",
      "[*********************100%%**********************]  1 of 1 completed\n",
      "[*********************100%%**********************]  1 of 1 completed\n",
      "[*********************100%%**********************]  1 of 1 completed\n",
      "[*********************100%%**********************]  1 of 1 completed\n",
      "[*********************100%%**********************]  1 of 1 completed\n",
      "[*********************100%%**********************]  1 of 1 completed\n",
      "[*********************100%%**********************]  1 of 1 completed\n",
      "[*********************100%%**********************]  1 of 1 completed\n",
      "[*********************100%%**********************]  1 of 1 completed\n",
      "[*********************100%%**********************]  1 of 1 completed\n",
      "[*********************100%%**********************]  1 of 1 completed\n",
      "[*********************100%%**********************]  1 of 1 completed\n",
      "[*********************100%%**********************]  1 of 1 completed\n"
     ]
    }
   ],
   "source": [
    "df = pd.DataFrame()\n",
    "for stock in selected_stocks:\n",
    "    data = get_data(stock, start_date, end_date)\n",
    "    df[stock] = data['Close']\n"
   ]
  },
  {
   "cell_type": "code",
   "execution_count": 100,
   "metadata": {},
   "outputs": [],
   "source": [
    "esg_data = pd.read_json('esg_data.json')"
   ]
  },
  {
   "cell_type": "code",
   "execution_count": 101,
   "metadata": {},
   "outputs": [
    {
     "data": {
      "text/html": [
       "<div>\n",
       "<style scoped>\n",
       "    .dataframe tbody tr th:only-of-type {\n",
       "        vertical-align: middle;\n",
       "    }\n",
       "\n",
       "    .dataframe tbody tr th {\n",
       "        vertical-align: top;\n",
       "    }\n",
       "\n",
       "    .dataframe thead th {\n",
       "        text-align: right;\n",
       "    }\n",
       "</style>\n",
       "<table border=\"1\" class=\"dataframe\">\n",
       "  <thead>\n",
       "    <tr style=\"text-align: right;\">\n",
       "      <th></th>\n",
       "      <th>esg</th>\n",
       "      <th>esg_industry</th>\n",
       "      <th>industry</th>\n",
       "      <th>name</th>\n",
       "      <th>ticker</th>\n",
       "    </tr>\n",
       "  </thead>\n",
       "  <tbody>\n",
       "    <tr>\n",
       "      <th>0</th>\n",
       "      <td>[]</td>\n",
       "      <td>[]</td>\n",
       "      <td>Mining (except Oil &amp; Gas)</td>\n",
       "      <td>20-Microns-Ltd</td>\n",
       "      <td>20MICRONS</td>\n",
       "    </tr>\n",
       "    <tr>\n",
       "      <th>1</th>\n",
       "      <td>[[1622505600000, 14.44], [1625097600000, 14.46...</td>\n",
       "      <td>[[1622505600000, 13.83], [1625097600000, 12.9]...</td>\n",
       "      <td>Containers &amp; Packaging Manufacturing</td>\n",
       "      <td>3M-INDIA-LIMITED</td>\n",
       "      <td>3MINDIA</td>\n",
       "    </tr>\n",
       "    <tr>\n",
       "      <th>2</th>\n",
       "      <td>[[1633046400000, 36.21], [1635724800000, 35.68...</td>\n",
       "      <td>[[1633046400000, 19.94], [1635724800000, 20.25...</td>\n",
       "      <td>Brokerage &amp; Capital Markets</td>\n",
       "      <td>5paisa-Capital-Limited</td>\n",
       "      <td>5PAISA</td>\n",
       "    </tr>\n",
       "    <tr>\n",
       "      <th>3</th>\n",
       "      <td>[]</td>\n",
       "      <td>[]</td>\n",
       "      <td>Brokerage &amp; Capital Markets</td>\n",
       "      <td>A-K-CAPITAL-SERVICES-LIMITED</td>\n",
       "      <td>530499</td>\n",
       "    </tr>\n",
       "    <tr>\n",
       "      <th>4</th>\n",
       "      <td>[]</td>\n",
       "      <td>[]</td>\n",
       "      <td>Architectural, Engineering, &amp; Related Services</td>\n",
       "      <td>A2Z-MAINTENANCE-and-ENGINEERING-SERVICES-LIMITED</td>\n",
       "      <td>A2ZINFRA</td>\n",
       "    </tr>\n",
       "  </tbody>\n",
       "</table>\n",
       "</div>"
      ],
      "text/plain": [
       "                                                 esg  \\\n",
       "0                                                 []   \n",
       "1  [[1622505600000, 14.44], [1625097600000, 14.46...   \n",
       "2  [[1633046400000, 36.21], [1635724800000, 35.68...   \n",
       "3                                                 []   \n",
       "4                                                 []   \n",
       "\n",
       "                                        esg_industry  \\\n",
       "0                                                 []   \n",
       "1  [[1622505600000, 13.83], [1625097600000, 12.9]...   \n",
       "2  [[1633046400000, 19.94], [1635724800000, 20.25...   \n",
       "3                                                 []   \n",
       "4                                                 []   \n",
       "\n",
       "                                         industry  \\\n",
       "0                       Mining (except Oil & Gas)   \n",
       "1            Containers & Packaging Manufacturing   \n",
       "2                     Brokerage & Capital Markets   \n",
       "3                     Brokerage & Capital Markets   \n",
       "4  Architectural, Engineering, & Related Services   \n",
       "\n",
       "                                               name     ticker  \n",
       "0                                    20-Microns-Ltd  20MICRONS  \n",
       "1                                  3M-INDIA-LIMITED    3MINDIA  \n",
       "2                            5paisa-Capital-Limited     5PAISA  \n",
       "3                      A-K-CAPITAL-SERVICES-LIMITED     530499  \n",
       "4  A2Z-MAINTENANCE-and-ENGINEERING-SERVICES-LIMITED   A2ZINFRA  "
      ]
     },
     "execution_count": 101,
     "metadata": {},
     "output_type": "execute_result"
    }
   ],
   "source": [
    "esg_data.head()\n"
   ]
  },
  {
   "cell_type": "code",
   "execution_count": 102,
   "metadata": {},
   "outputs": [],
   "source": [
    "esg_data = esg_data[esg_data['ticker'].isin(selected_stocks)]\n",
    "esg_data = esg_data.set_index('ticker')\n",
    "esg_data.head()\n",
    "# drop the row with name Nabha-Power-Limited\n",
    "esg_data = esg_data[esg_data['name'] != 'Nabha-Power-Limited']"
   ]
  },
  {
   "cell_type": "code",
   "execution_count": 103,
   "metadata": {},
   "outputs": [
    {
     "data": {
      "text/html": [
       "<div>\n",
       "<style scoped>\n",
       "    .dataframe tbody tr th:only-of-type {\n",
       "        vertical-align: middle;\n",
       "    }\n",
       "\n",
       "    .dataframe tbody tr th {\n",
       "        vertical-align: top;\n",
       "    }\n",
       "\n",
       "    .dataframe thead th {\n",
       "        text-align: right;\n",
       "    }\n",
       "</style>\n",
       "<table border=\"1\" class=\"dataframe\">\n",
       "  <thead>\n",
       "    <tr style=\"text-align: right;\">\n",
       "      <th></th>\n",
       "      <th>ESG_score</th>\n",
       "    </tr>\n",
       "  </thead>\n",
       "  <tbody>\n",
       "    <tr>\n",
       "      <th>ALKYLAMINE</th>\n",
       "      <td>26.132917</td>\n",
       "    </tr>\n",
       "    <tr>\n",
       "      <th>TATAINVEST</th>\n",
       "      <td>55.452941</td>\n",
       "    </tr>\n",
       "    <tr>\n",
       "      <th>JSWHL</th>\n",
       "      <td>46.280000</td>\n",
       "    </tr>\n",
       "    <tr>\n",
       "      <th>CONCOR</th>\n",
       "      <td>38.377600</td>\n",
       "    </tr>\n",
       "    <tr>\n",
       "      <th>ICICIBANK</th>\n",
       "      <td>59.359200</td>\n",
       "    </tr>\n",
       "  </tbody>\n",
       "</table>\n",
       "</div>"
      ],
      "text/plain": [
       "            ESG_score\n",
       "ALKYLAMINE  26.132917\n",
       "TATAINVEST  55.452941\n",
       "JSWHL       46.280000\n",
       "CONCOR      38.377600\n",
       "ICICIBANK   59.359200"
      ]
     },
     "execution_count": 103,
     "metadata": {},
     "output_type": "execute_result"
    }
   ],
   "source": [
    "ESG_score_df = pd.DataFrame()\n",
    "for ticker in selected_stocks:\n",
    "    # print(ticker)\n",
    "    sum = 0\n",
    "    n = 0\n",
    "    for el in esg_data.loc[ticker]['esg']:\n",
    "      n = n + 1\n",
    "      sum = sum + el[1]\n",
    "\n",
    "    ESG_score_df[ticker] = [sum/n]\n",
    "\n",
    "ESG_score_df = ESG_score_df.T\n",
    "ESG_score_df.columns = ['ESG_score']\n",
    "ESG_score_df.head()   "
   ]
  },
  {
   "cell_type": "code",
   "execution_count": 104,
   "metadata": {},
   "outputs": [
    {
     "data": {
      "text/html": [
       "<div>\n",
       "<style scoped>\n",
       "    .dataframe tbody tr th:only-of-type {\n",
       "        vertical-align: middle;\n",
       "    }\n",
       "\n",
       "    .dataframe tbody tr th {\n",
       "        vertical-align: top;\n",
       "    }\n",
       "\n",
       "    .dataframe thead th {\n",
       "        text-align: right;\n",
       "    }\n",
       "</style>\n",
       "<table border=\"1\" class=\"dataframe\">\n",
       "  <thead>\n",
       "    <tr style=\"text-align: right;\">\n",
       "      <th></th>\n",
       "      <th>esg</th>\n",
       "      <th>esg_industry</th>\n",
       "      <th>industry</th>\n",
       "      <th>name</th>\n",
       "    </tr>\n",
       "    <tr>\n",
       "      <th>ticker</th>\n",
       "      <th></th>\n",
       "      <th></th>\n",
       "      <th></th>\n",
       "      <th></th>\n",
       "    </tr>\n",
       "  </thead>\n",
       "  <tbody>\n",
       "    <tr>\n",
       "      <th>LT</th>\n",
       "      <td>[[1619827200000, 89.93], [1622505600000, 93.2]...</td>\n",
       "      <td>[[1619827200000, 81.17], [1622505600000, 82.59...</td>\n",
       "      <td>Heavy &amp; Civil Engineering Construction, Electr...</td>\n",
       "      <td>Larsen-and-Toubro</td>\n",
       "    </tr>\n",
       "  </tbody>\n",
       "</table>\n",
       "</div>"
      ],
      "text/plain": [
       "                                                      esg  \\\n",
       "ticker                                                      \n",
       "LT      [[1619827200000, 89.93], [1622505600000, 93.2]...   \n",
       "\n",
       "                                             esg_industry  \\\n",
       "ticker                                                      \n",
       "LT      [[1619827200000, 81.17], [1622505600000, 82.59...   \n",
       "\n",
       "                                                 industry               name  \n",
       "ticker                                                                        \n",
       "LT      Heavy & Civil Engineering Construction, Electr...  Larsen-and-Toubro  "
      ]
     },
     "execution_count": 104,
     "metadata": {},
     "output_type": "execute_result"
    }
   ],
   "source": [
    "esg_data[esg_data.index == 'LT']"
   ]
  },
  {
   "cell_type": "markdown",
   "metadata": {},
   "source": [
    "# Helper Functions"
   ]
  },
  {
   "cell_type": "code",
   "execution_count": 105,
   "metadata": {},
   "outputs": [],
   "source": [
    "import numpy as np\n",
    "import matplotlib.pyplot as plt\n",
    "from mpl_toolkits.mplot3d import Axes3D\n",
    "\n",
    "def is_positive_definite(Sigma):\n",
    "    return np.all(np.linalg.eigvals(Sigma) > 0)\n",
    "\n",
    "def calculate_portfolio_weights(Sigma, mu, Esg_score, u, l):\n",
    "    one=np.ones(len(mu))\n",
    "    # check if mu, Esg_score, one are linearly independent\n",
    "    if np.linalg.matrix_rank(np.array([mu, Esg_score, one])) < 3:\n",
    "        print(\"mu, Esg_score, one are not linearly independent\")\n",
    "        return\n",
    "    if is_positive_definite(Sigma):\n",
    "        Sigma_inv = np.linalg.inv(Sigma)\n",
    "        a = np.transpose(mu) @ Sigma_inv @ mu\n",
    "        b =  np.transpose(mu)@ Sigma_inv @ Esg_score\n",
    "        c = np.transpose(mu) @ Sigma_inv @ one\n",
    "        d = np.transpose(Esg_score) @ Sigma_inv @ Esg_score\n",
    "        e = np.transpose(Esg_score) @ Sigma_inv @ one\n",
    "        f = np.transpose(one) @ Sigma_inv @ one\n",
    "        C = np.array([[a, b, c], [b, d, e], [c, e, f]])\n",
    "\n",
    "        detC=np.linalg.det(C)\n",
    "\n",
    "        C_inv = np.linalg.inv(C)\n",
    "\n",
    "        aa=Sigma_inv @ mu\n",
    "        bb=Sigma_inv @ Esg_score\n",
    "        cc=Sigma_inv @ one \n",
    "\n",
    "        x0 = (1/detC)*((b*e-c*d)*aa+(b*c-a*e)*bb+(a*d-b*b)*cc)\n",
    "        d2 = (1/detC)*((d*f-e*e)*aa+(c*e-b*f)*bb+(b*e-c*d)*cc)\n",
    "        d3=(1/detC)*((c*e-b*f)*aa+(a*f-c*c)*bb+(b*c-a*e)*cc)\n",
    "\n",
    "\n",
    "        # print(x0)\n",
    "        # print(d2)\n",
    "        # print(d3)\n",
    "\n",
    "        x = x0 + u * d2 + l * d3\n",
    "\n",
    "        # Output x\n",
    "        # print(x)\n",
    "        print(\"Sum of weights: \", np.sum(x))\n",
    "        return x\n",
    "    else:\n",
    "        print(\"Matrix is not positive definite:\\n\")\n"
   ]
  },
  {
   "cell_type": "code",
   "execution_count": 106,
   "metadata": {},
   "outputs": [],
   "source": [
    "def get_returns_given_w(weights, returns_df):\n",
    "    aligned_weights = [weights[stock] for stock in returns_df.columns]\n",
    "    mu = returns_df.pct_change().apply(lambda x: np.log(1+x)).mean()\n",
    "    cov_matrix = returns_df.pct_change().apply(lambda x: np.log(1+x)).cov()\n",
    "    portfolio_return = 252*(mu @ aligned_weights)\n",
    "    portfolio_stddev = np.sqrt(np.array(aligned_weights).T @ cov_matrix @ np.array(aligned_weights)*252)\n",
    "    return portfolio_return, portfolio_stddev"
   ]
  },
  {
   "cell_type": "code",
   "execution_count": 107,
   "metadata": {},
   "outputs": [],
   "source": [
    "def sharpe_ratio(returns, volatility, risk_free_rate=0.06):\n",
    "    return (returns - risk_free_rate) / volatility"
   ]
  },
  {
   "cell_type": "code",
   "execution_count": 108,
   "metadata": {},
   "outputs": [
    {
     "data": {
      "text/plain": [
       "DatetimeIndex(['2020-01-01', '2020-01-02', '2020-01-03', '2020-01-06',\n",
       "               '2020-01-07', '2020-01-08', '2020-01-09', '2020-01-10',\n",
       "               '2020-01-13', '2020-01-14',\n",
       "               ...\n",
       "               '2020-12-17', '2020-12-18', '2020-12-21', '2020-12-22',\n",
       "               '2020-12-23', '2020-12-24', '2020-12-28', '2020-12-29',\n",
       "               '2020-12-30', '2020-12-31'],\n",
       "              dtype='datetime64[ns]', name='Date', length=251, freq=None)"
      ]
     },
     "execution_count": 108,
     "metadata": {},
     "output_type": "execute_result"
    }
   ],
   "source": [
    "df.index"
   ]
  },
  {
   "cell_type": "markdown",
   "metadata": {},
   "source": [
    "# Analysis"
   ]
  },
  {
   "cell_type": "code",
   "execution_count": 109,
   "metadata": {},
   "outputs": [],
   "source": [
    "train_df = df.loc[starting_train:ending_train]\n",
    "test_df = df.loc[starting_test:ending_test]"
   ]
  },
  {
   "cell_type": "code",
   "execution_count": 110,
   "metadata": {},
   "outputs": [
    {
     "name": "stdout",
     "output_type": "stream",
     "text": [
      "Sum of weights:  0.9999999999999989\n"
     ]
    }
   ],
   "source": [
    "mu = train_df.pct_change().apply(lambda x: np.log(1+x)).mean()\n",
    "Sigma = train_df.pct_change().apply(lambda x: np.log(1+x)).cov()\n",
    "Esg_score = ESG_score_df['ESG_score']\n",
    "weights = calculate_portfolio_weights(Sigma, mu, Esg_score, 0.2/252, 60)\n",
    "# make weights into a array with index\n",
    "weights = pd.Series(weights, index=train_df.columns)"
   ]
  },
  {
   "cell_type": "code",
   "execution_count": 111,
   "metadata": {},
   "outputs": [
    {
     "data": {
      "text/plain": [
       "0.005525815530448062"
      ]
     },
     "execution_count": 111,
     "metadata": {},
     "output_type": "execute_result"
    }
   ],
   "source": [
    "mu.max()"
   ]
  },
  {
   "cell_type": "code",
   "execution_count": 112,
   "metadata": {},
   "outputs": [
    {
     "name": "stdout",
     "output_type": "stream",
     "text": [
      "Sum of absolute weights:  3.4475873229353997\n"
     ]
    }
   ],
   "source": [
    "print(\"Sum of absolute weights: \", np.sum(np.abs(weights)))"
   ]
  },
  {
   "cell_type": "code",
   "execution_count": 113,
   "metadata": {},
   "outputs": [],
   "source": [
    "training = get_returns_given_w(weights, train_df)\n",
    "testing = get_returns_given_w(weights, test_df)"
   ]
  },
  {
   "cell_type": "markdown",
   "metadata": {},
   "source": [
    "# Market Analysis"
   ]
  },
  {
   "cell_type": "code",
   "execution_count": 114,
   "metadata": {},
   "outputs": [
    {
     "name": "stderr",
     "output_type": "stream",
     "text": [
      "[*********************100%%**********************]  1 of 1 completed\n"
     ]
    }
   ],
   "source": [
    "NIFTY = yf.download('^NSEI', start=start_date, end=end_date)"
   ]
  },
  {
   "cell_type": "code",
   "execution_count": 115,
   "metadata": {},
   "outputs": [
    {
     "name": "stdout",
     "output_type": "stream",
     "text": [
      "Returns of NIFTY in training: -0.2944373999728336\n",
      "Stddev of NIFTY in training: 0.4245184965544325\n",
      "Returns of NIFTY in test: 0.5629318098134067\n",
      "Stddev of NIFTY in test: 0.15595218142958003\n"
     ]
    }
   ],
   "source": [
    "NIFTY_training = NIFTY.loc[starting_train:ending_train]\n",
    "NIFTY_test = NIFTY.loc[starting_test:ending_test]\n",
    "\n",
    "mu_NIFTY = NIFTY_training['Close'].pct_change().apply(lambda x: np.log(1+x)).mean()\n",
    "var_NIFTY = NIFTY_training['Close'].pct_change().apply(lambda x: np.log(1+x)).var()\n",
    "\n",
    "print(\"Returns of NIFTY in training:\", mu_NIFTY*252)\n",
    "print(\"Stddev of NIFTY in training:\", np.sqrt(252*var_NIFTY))\n",
    "\n",
    "\n",
    "mu_NIFTY_test = NIFTY_test['Close'].pct_change().apply(lambda x: np.log(1+x)).mean()\n",
    "var_NIFTY_test = NIFTY_test['Close'].pct_change().apply(lambda x: np.log(1+x)).var()\n",
    "\n",
    "print(\"Returns of NIFTY in test:\", mu_NIFTY_test*252)\n",
    "print(\"Stddev of NIFTY in test:\", np.sqrt(252*var_NIFTY_test))"
   ]
  },
  {
   "cell_type": "markdown",
   "metadata": {},
   "source": [
    "# Comparision"
   ]
  },
  {
   "cell_type": "code",
   "execution_count": 116,
   "metadata": {},
   "outputs": [
    {
     "data": {
      "text/html": [
       "<div>\n",
       "<style scoped>\n",
       "    .dataframe tbody tr th:only-of-type {\n",
       "        vertical-align: middle;\n",
       "    }\n",
       "\n",
       "    .dataframe tbody tr th {\n",
       "        vertical-align: top;\n",
       "    }\n",
       "\n",
       "    .dataframe thead th {\n",
       "        text-align: right;\n",
       "    }\n",
       "</style>\n",
       "<table border=\"1\" class=\"dataframe\">\n",
       "  <thead>\n",
       "    <tr style=\"text-align: right;\">\n",
       "      <th></th>\n",
       "      <th>Returns</th>\n",
       "      <th>Stddev</th>\n",
       "      <th>Sharpe Ratio</th>\n",
       "      <th>ESG Score</th>\n",
       "    </tr>\n",
       "  </thead>\n",
       "  <tbody>\n",
       "    <tr>\n",
       "      <th>Training</th>\n",
       "      <td>0.200000</td>\n",
       "      <td>0.143406</td>\n",
       "      <td>0.976249</td>\n",
       "      <td>60.0</td>\n",
       "    </tr>\n",
       "    <tr>\n",
       "      <th>Testing</th>\n",
       "      <td>0.172242</td>\n",
       "      <td>0.185989</td>\n",
       "      <td>0.603487</td>\n",
       "      <td>60.0</td>\n",
       "    </tr>\n",
       "    <tr>\n",
       "      <th>NIFTY Training</th>\n",
       "      <td>-0.294437</td>\n",
       "      <td>0.424518</td>\n",
       "      <td>-0.834916</td>\n",
       "      <td>NaN</td>\n",
       "    </tr>\n",
       "    <tr>\n",
       "      <th>NIFTY Testing</th>\n",
       "      <td>0.562932</td>\n",
       "      <td>0.155952</td>\n",
       "      <td>3.224910</td>\n",
       "      <td>NaN</td>\n",
       "    </tr>\n",
       "  </tbody>\n",
       "</table>\n",
       "</div>"
      ],
      "text/plain": [
       "                 Returns    Stddev  Sharpe Ratio  ESG Score\n",
       "Training        0.200000  0.143406      0.976249       60.0\n",
       "Testing         0.172242  0.185989      0.603487       60.0\n",
       "NIFTY Training -0.294437  0.424518     -0.834916        NaN\n",
       "NIFTY Testing   0.562932  0.155952      3.224910        NaN"
      ]
     },
     "execution_count": 116,
     "metadata": {},
     "output_type": "execute_result"
    }
   ],
   "source": [
    "# tabulate the training and testing data for NIFTY and df (returns, stddev, sharpes ratio, esg score)\n",
    "data = {'Returns': [training[0], testing[0], mu_NIFTY*252, mu_NIFTY_test*252], \n",
    "        'Stddev': [training[1], testing[1], np.sqrt(252*var_NIFTY), np.sqrt(252*var_NIFTY_test)], \n",
    "        'Sharpe Ratio': [sharpe_ratio(training[0], training[1]), sharpe_ratio(testing[0], testing[1]), sharpe_ratio(mu_NIFTY*252, np.sqrt(252*var_NIFTY)), sharpe_ratio(mu_NIFTY_test*252, np.sqrt(252*var_NIFTY_test))],\n",
    "        'ESG Score': [Esg_score@weights, Esg_score@weights, None, None]}\n",
    "\n",
    "df_compare = pd.DataFrame(data, index=['Training', 'Testing', 'NIFTY Training', 'NIFTY Testing'])\n",
    "df_compare"
   ]
  },
  {
   "cell_type": "code",
   "execution_count": null,
   "metadata": {},
   "outputs": [],
   "source": []
  }
 ],
 "metadata": {
  "kernelspec": {
   "display_name": "env",
   "language": "python",
   "name": "python3"
  },
  "language_info": {
   "codemirror_mode": {
    "name": "ipython",
    "version": 3
   },
   "file_extension": ".py",
   "mimetype": "text/x-python",
   "name": "python",
   "nbconvert_exporter": "python",
   "pygments_lexer": "ipython3",
   "version": "3.11.5"
  }
 },
 "nbformat": 4,
 "nbformat_minor": 2
}
